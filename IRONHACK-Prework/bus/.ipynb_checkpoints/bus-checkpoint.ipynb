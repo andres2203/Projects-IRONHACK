{
 "cells": [
  {
   "cell_type": "markdown",
   "metadata": {},
   "source": [
    "# Bus\n",
    "\n",
    "This bus has a passenger entry and exit control system to monitor the number of occupants it carries and thus detect when there is too high a capacity.\n",
    "\n",
    "At each stop the entry and exit of passengers is represented by a tuple consisting of two integer numbers.\n",
    "```\n",
    "bus_stop = (in, out)\n",
    "```\n",
    "The succession of stops is represented by a list of these tuples.\n",
    "```\n",
    "stops = [(in1, out1), (in2, out2), (in3, out3), (in4, out4)]\n",
    "```\n",
    "\n",
    "## Goals:\n",
    "* lists, tuples\n",
    "* while/for loops\n",
    "* minimum, maximum, length\n",
    "* average, standard deviation\n",
    "\n",
    "## Tasks\n",
    "1. Calculate the number of stops.\n",
    "2. Assign to a variable a list whose elements are the number of passengers at each stop (in-out),\n",
    "3. Find the maximum occupation of the bus.\n",
    "4. Calculate the average occupation. And the standard deviation.\n"
   ]
  },
  {
   "cell_type": "code",
   "execution_count": 298,
   "metadata": {},
   "outputs": [],
   "source": [
    "# variables\n",
    "stop_1 = ()\n",
    "stop_2 = ()\n",
    "stop_3 = ()\n",
    "stop_4 = ()\n",
    "stops = [stop_1, stop_2, stop_3, stop_4]"
   ]
  },
  {
   "cell_type": "code",
   "execution_count": 65,
   "metadata": {},
   "outputs": [
    {
     "name": "stdout",
     "output_type": "stream",
     "text": [
      "the bus has 4 stops.\n"
     ]
    }
   ],
   "source": [
    "# 1. Calculate the number of stops.\n",
    "stops_tot = len(stops)\n",
    "print(\"the bus has\", stops_tot, \"stops.\")"
   ]
  },
  {
   "cell_type": "code",
   "execution_count": 9,
   "metadata": {
    "scrolled": true
   },
   "outputs": [
    {
     "name": "stdout",
     "output_type": "stream",
     "text": [
      "[24, 18, -8, -14]\n",
      "[24, 42, 34, 20]\n",
      "occupation at Stop Nr. 1 are 24 passengers\n",
      "occupation at Stop Nr. 2 are 42 passengers\n",
      "occupation at Stop Nr. 3 are 34 passengers\n",
      "occupation at Stop Nr. 4 are 20 passengers\n"
     ]
    }
   ],
   "source": [
    "# 2. Assign a variable a list whose elements are the number of passengers in each stop: \n",
    "stop_1 = (32, 8)\n",
    "stop_2 = (38, 20)\n",
    "stop_3 = (35, 43)\n",
    "stop_4 = (10, 24)\n",
    "stops = [stop_1, stop_2, stop_3, stop_4]\n",
    "\n",
    "# Each item depends on the previous item in the list + in - out.\n",
    "total_occupation = []\n",
    "\n",
    "for (in_i, out_i) in stops:\n",
    "    total_occupation.append(in_i - out_i)\n",
    "\n",
    "print(total_occupation)\n",
    "for i in range(1,4):\n",
    "    total_occupation[i] += total_occupation[i-1]\n",
    "print(total_occupation)\n",
    "\n",
    "liste = list(range(1, 5))\n",
    "for i in range(0,4):\n",
    "    print(\"occupation at Stop Nr.\", liste[i], \"are\", total_occupation[i], \"passengers\")\n"
   ]
  },
  {
   "cell_type": "code",
   "execution_count": 242,
   "metadata": {},
   "outputs": [
    {
     "name": "stdout",
     "output_type": "stream",
     "text": [
      "<class 'tuple'>\n",
      "<class 'list'>\n"
     ]
    }
   ],
   "source": [
    "#  Info: relationship in tuple\n",
    "stops[1][0], stops[2][0] \n",
    "print(type(stop_1)) \n",
    "print(type(list(stop_1))) #  transform tuple into editable list"
   ]
  },
  {
   "cell_type": "code",
   "execution_count": 296,
   "metadata": {},
   "outputs": [
    {
     "name": "stdout",
     "output_type": "stream",
     "text": [
      "The maximum occupation is: 42\n"
     ]
    }
   ],
   "source": [
    "# 3. Find the maximum occupation of the bus.\n",
    "print(\"The maximum occupation is:\", max(total_occupation))"
   ]
  },
  {
   "cell_type": "code",
   "execution_count": 297,
   "metadata": {},
   "outputs": [
    {
     "name": "stdout",
     "output_type": "stream",
     "text": [
      "The average occupation is: 30.0\n",
      "The std is 8.60233\n"
     ]
    }
   ],
   "source": [
    "# 4. Calculate the average occupation. And the standard deviation.\n",
    "\n",
    "print(\"The average occupation is:\", sum(total_occupation)/len(total_occupation))\n",
    "\n",
    "import numpy as np\n",
    "\n",
    "std = np.std(total_occupation)\n",
    "print(\"The std is\", round(std, 5))"
   ]
  }
 ],
 "metadata": {
  "kernelspec": {
   "display_name": "Python 3",
   "language": "python",
   "name": "python3"
  },
  "language_info": {
   "codemirror_mode": {
    "name": "ipython",
    "version": 3
   },
   "file_extension": ".py",
   "mimetype": "text/x-python",
   "name": "python",
   "nbconvert_exporter": "python",
   "pygments_lexer": "ipython3",
   "version": "3.7.3"
  }
 },
 "nbformat": 4,
 "nbformat_minor": 2
}
