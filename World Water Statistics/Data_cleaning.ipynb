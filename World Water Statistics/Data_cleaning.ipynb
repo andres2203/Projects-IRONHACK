{
 "cells": [
  {
   "cell_type": "code",
   "execution_count": 21,
   "metadata": {},
   "outputs": [],
   "source": [
    "import pandas as pd, numpy as np\n",
    "import re"
   ]
  },
  {
   "cell_type": "markdown",
   "metadata": {},
   "source": [
    "# Non historical Data"
   ]
  },
  {
   "cell_type": "markdown",
   "metadata": {},
   "source": [
    "## 1. Get Country Data\n",
    "Source: https://www.kaggle.com/fernandol/countries-of-the-world"
   ]
  },
  {
   "cell_type": "code",
   "execution_count": 22,
   "metadata": {},
   "outputs": [],
   "source": [
    "countries = pd.read_csv(\"Sources//countries-of-the-world.csv\", na_values=(\"NaN\"), decimal=\",\", skipinitialspace=True)"
   ]
  },
  {
   "cell_type": "markdown",
   "metadata": {},
   "source": [
    "Replace spaces with Regex and rewrite columns"
   ]
  },
  {
   "cell_type": "code",
   "execution_count": 23,
   "metadata": {},
   "outputs": [],
   "source": [
    "countries.Country = countries.Country.replace(to_replace={\"(\\W\\s?\\W?)\\Z\" : \"\"}, regex=True)"
   ]
  },
  {
   "cell_type": "code",
   "execution_count": 24,
   "metadata": {},
   "outputs": [],
   "source": [
    "countries_drop = countries.drop(columns=[\"Coastline (coast/area ratio)\", \n",
    "                                         \"Net migration\", \n",
    "                                         \"Infant mortality (per 1000 births)\", \n",
    "                                         \"Phones (per 1000)\", \n",
    "                                         \"Crops (%)\", \n",
    "                                         \"Other (%)\", \n",
    "                                         \"Agriculture\", \n",
    "                                         \"Industry\", \n",
    "                                         \"Service\",\n",
    "                                         \"Climate\"])"
   ]
  },
  {
   "cell_type": "code",
   "execution_count": 25,
   "metadata": {},
   "outputs": [],
   "source": [
    "countries_drop = countries_drop.replace(to_replace={'ASIA (EX. NEAR EAST)         ': \"ASIA\"\n",
    "                                        ,'BALTICS                            ' : \"BALTICS\"\n",
    "                                        ,'C.W. OF IND. STATES ' : \"C.W. OF IND. STATES\"\n",
    "                                        ,'EASTERN EUROPE                     ' : \"EASTERN EUROPE\"\n",
    "                                        ,'LATIN AMER. & CARIB    ' : \"LATIN AMER. & CARIB\"\n",
    "                                        ,'NEAR EAST                          ' : \"NEAR EAST\"\n",
    "                                        ,'NORTHERN AFRICA                    ' : \"NORTHERN AFRICA\"\n",
    "                                        ,'NORTHERN AMERICA                   ' :  \"NORTHERN AMERICA\"\n",
    "                                        ,'OCEANIA                            ' : \"OCEANIA\"\n",
    "                                        ,'SUB-SAHARAN AFRICA                 ' : \"SUB-SAHARAN AFRICA\"\n",
    "                                        ,'WESTERN EUROPE                     ' :  \"WESTERN EUROPE\"})"
   ]
  },
  {
   "cell_type": "code",
   "execution_count": 26,
   "metadata": {},
   "outputs": [],
   "source": [
    "Data_Full = countries_drop.copy()"
   ]
  },
  {
   "cell_type": "markdown",
   "metadata": {},
   "source": [
    "# Historical Data"
   ]
  },
  {
   "cell_type": "markdown",
   "metadata": {},
   "source": [
    "## 1. Get Temperature\n",
    "Source: http://apps.ipcc-data.org/observ/clim/cru_ts2_1.html"
   ]
  },
  {
   "cell_type": "code",
   "execution_count": 27,
   "metadata": {},
   "outputs": [],
   "source": [
    "temperature_1961_1990_country = pd.read_csv(\"Sources//Temp-1961-1990-Country.csv\", \n",
    "                                            sep=\";\",\n",
    "                                            decimal=\",\")"
   ]
  },
  {
   "cell_type": "markdown",
   "metadata": {},
   "source": [
    "***Merge***"
   ]
  },
  {
   "cell_type": "code",
   "execution_count": 28,
   "metadata": {},
   "outputs": [],
   "source": [
    "Data_Full = Data_Full.merge(temperature_1961_1990_country, how=\"left\", on=\"Country\")"
   ]
  },
  {
   "cell_type": "markdown",
   "metadata": {},
   "source": [
    "## 2. Get Precipitation\n",
    "Source: https://databank.worldbank.org/source/world-development-indicators#"
   ]
  },
  {
   "cell_type": "code",
   "execution_count": 29,
   "metadata": {},
   "outputs": [],
   "source": [
    "precipitation_1984_2019 = pd.read_csv(\"Sources//Precipitation_1984-2019.csv\", \n",
    "                                      sep=\",\", \n",
    "                                      na_values=\"..\")\n",
    "\n",
    "precipitation_1984_2019 = precipitation_1984_2019.drop(columns=[\"1984 [YR1984]\", \n",
    "                                                                \"1988 [YR1988]\", \n",
    "                                                                \"1998 [YR1998]\", \n",
    "                                                                \"2006 [YR2006]\", \n",
    "                                                                \"2010 [YR2010]\", \n",
    "                                                                \"2018 [YR2018]\"])\n",
    "\n",
    "precipitation_1984_2019 = (precipitation_1984_2019.drop(columns=[\"Series Name\", \"Series Code\"]).\n",
    "                           rename(columns={'1992 [YR1992]' : \"precipitation mm/y 1992\", \n",
    "                                           '2002 [YR2002]' : \"precipitation mm/y 2002\", \n",
    "                                           '2014 [YR2014]' : \"precipitation mm/y 2014\",\n",
    "                                           'Country Name' : \"Country\"}))"
   ]
  },
  {
   "cell_type": "markdown",
   "metadata": {},
   "source": [
    "***Merge***"
   ]
  },
  {
   "cell_type": "code",
   "execution_count": 30,
   "metadata": {},
   "outputs": [],
   "source": [
    "Data_Full = Data_Full.merge(precipitation_1984_2019, how=\"left\", on=\"Country\")"
   ]
  },
  {
   "cell_type": "markdown",
   "metadata": {},
   "source": [
    "## 3. Get Water\n",
    "Source: https://databank.worldbank.org/source/world-development-indicators#"
   ]
  },
  {
   "cell_type": "markdown",
   "metadata": {},
   "source": [
    "### Consumption"
   ]
  },
  {
   "cell_type": "code",
   "execution_count": 31,
   "metadata": {},
   "outputs": [],
   "source": [
    "renewable_freshwater = pd.read_csv(\"Sources//renewable_freshwater.csv\",\n",
    "                         sep=\",\",\n",
    "                         na_values=\"..\")\n"
   ]
  },
  {
   "cell_type": "code",
   "execution_count": 32,
   "metadata": {},
   "outputs": [],
   "source": [
    "renewable_freshwater = (renewable_freshwater.drop(columns=[\"1984 [YR1984]\",\n",
    "                                                           \"1988 [YR1988]\", \n",
    "                                                           \"1998 [YR1998]\", \n",
    "                                                           \"2006 [YR2006]\", \n",
    "                                                           \"2010 [YR2010]\", \n",
    "                                                           \"2018 [YR2018]\",\n",
    "                                                           \"Unnamed: 0\",\n",
    "                                                           \"Country Code\",\n",
    "                                                           \"Series Name\",\n",
    "                                                           \"Series Code\"]).\n",
    "                     rename(columns={'1992 [YR1992]' : \"renewable freshwater m3/capita 1992\", \n",
    "                                     '2002 [YR2002]' : \"renewable freshwater m3/capita 2002\",\n",
    "                                     '2014 [YR2014]' : \"renewable freshwater m3/capita 2014\",\n",
    "                                     'Country Name' : \"Country\"}))"
   ]
  },
  {
   "cell_type": "markdown",
   "metadata": {},
   "source": [
    "***Merge***"
   ]
  },
  {
   "cell_type": "code",
   "execution_count": 33,
   "metadata": {},
   "outputs": [],
   "source": [
    "Data_Full = Data_Full.merge(renewable_freshwater, how=\"left\", on=\"Country\")"
   ]
  },
  {
   "cell_type": "markdown",
   "metadata": {},
   "source": [
    "### Withdraw"
   ]
  },
  {
   "cell_type": "code",
   "execution_count": 34,
   "metadata": {},
   "outputs": [],
   "source": [
    "water_withdraw = pd.read_csv(\"Sources//water_withdraw.csv\",\n",
    "                             sep=\",\",\n",
    "                             na_values=\"..\",\n",
    "                             )"
   ]
  },
  {
   "cell_type": "code",
   "execution_count": 35,
   "metadata": {},
   "outputs": [],
   "source": [
    "water_withdraw = (water_withdraw.drop(columns=['1984 [YR1984]', '1988 [YR1988]', '1992 [YR1992]',\n",
    "       '1998 [YR1998]', '2006 [YR2006]', '2010 [YR2010]', 'Series Code',\n",
    "       '2014 [YR2014]', '2018 [YR2018]', \"Unnamed: 0\", \"Country Code\", \"Series Name\"]).\n",
    "                 rename(columns={\"2002 [YR2002]\" : \"annual water withdraw % 2002\", \"Country Name\" : \"Country\"}))"
   ]
  },
  {
   "cell_type": "markdown",
   "metadata": {},
   "source": [
    "***Merge***"
   ]
  },
  {
   "cell_type": "code",
   "execution_count": 36,
   "metadata": {},
   "outputs": [],
   "source": [
    "Data_Full = Data_Full.merge(water_withdraw, how=\"left\", on=\"Country\")"
   ]
  },
  {
   "cell_type": "code",
   "execution_count": 37,
   "metadata": {},
   "outputs": [
    {
     "data": {
      "text/html": [
       "<div>\n",
       "<style scoped>\n",
       "    .dataframe tbody tr th:only-of-type {\n",
       "        vertical-align: middle;\n",
       "    }\n",
       "\n",
       "    .dataframe tbody tr th {\n",
       "        vertical-align: top;\n",
       "    }\n",
       "\n",
       "    .dataframe thead th {\n",
       "        text-align: right;\n",
       "    }\n",
       "</style>\n",
       "<table border=\"1\" class=\"dataframe\">\n",
       "  <thead>\n",
       "    <tr style=\"text-align: right;\">\n",
       "      <th></th>\n",
       "      <th>Country</th>\n",
       "      <th>Region</th>\n",
       "      <th>Population</th>\n",
       "      <th>Area (sq. mi.)</th>\n",
       "      <th>Pop. Density (per sq. mi.)</th>\n",
       "      <th>GDP ($ per capita)</th>\n",
       "      <th>Literacy (%)</th>\n",
       "      <th>Arable (%)</th>\n",
       "      <th>Birthrate</th>\n",
       "      <th>Deathrate</th>\n",
       "      <th>Temp C° 1961-1990</th>\n",
       "      <th>Country Code</th>\n",
       "      <th>precipitation mm/y 1992</th>\n",
       "      <th>precipitation mm/y 2002</th>\n",
       "      <th>precipitation mm/y 2014</th>\n",
       "      <th>renewable freshwater m3/capita 1992</th>\n",
       "      <th>renewable freshwater m3/capita 2002</th>\n",
       "      <th>renewable freshwater m3/capita 2014</th>\n",
       "      <th>annual water withdraw % 2002</th>\n",
       "    </tr>\n",
       "  </thead>\n",
       "  <tbody>\n",
       "    <tr>\n",
       "      <td>0</td>\n",
       "      <td>Afghanistan</td>\n",
       "      <td>ASIA</td>\n",
       "      <td>31056997</td>\n",
       "      <td>647500</td>\n",
       "      <td>48.0</td>\n",
       "      <td>700.0</td>\n",
       "      <td>36.0</td>\n",
       "      <td>12.13</td>\n",
       "      <td>46.60</td>\n",
       "      <td>20.34</td>\n",
       "      <td>12.60</td>\n",
       "      <td>AFG</td>\n",
       "      <td>327.0</td>\n",
       "      <td>327.0</td>\n",
       "      <td>327.0</td>\n",
       "      <td>3254.968781</td>\n",
       "      <td>2086.212107</td>\n",
       "      <td>1412.912141</td>\n",
       "      <td>43.011665</td>\n",
       "    </tr>\n",
       "    <tr>\n",
       "      <td>1</td>\n",
       "      <td>Albania</td>\n",
       "      <td>EASTERN EUROPE</td>\n",
       "      <td>3581655</td>\n",
       "      <td>28748</td>\n",
       "      <td>124.6</td>\n",
       "      <td>4500.0</td>\n",
       "      <td>86.5</td>\n",
       "      <td>21.09</td>\n",
       "      <td>15.11</td>\n",
       "      <td>5.22</td>\n",
       "      <td>11.40</td>\n",
       "      <td>ALB</td>\n",
       "      <td>1485.0</td>\n",
       "      <td>1485.0</td>\n",
       "      <td>1485.0</td>\n",
       "      <td>8284.470867</td>\n",
       "      <td>8816.752485</td>\n",
       "      <td>9310.845162</td>\n",
       "      <td>6.832714</td>\n",
       "    </tr>\n",
       "    <tr>\n",
       "      <td>2</td>\n",
       "      <td>Algeria</td>\n",
       "      <td>NORTHERN AFRICA</td>\n",
       "      <td>32930091</td>\n",
       "      <td>2381740</td>\n",
       "      <td>13.8</td>\n",
       "      <td>6000.0</td>\n",
       "      <td>70.0</td>\n",
       "      <td>3.22</td>\n",
       "      <td>17.14</td>\n",
       "      <td>4.61</td>\n",
       "      <td>22.50</td>\n",
       "      <td>DZA</td>\n",
       "      <td>89.0</td>\n",
       "      <td>89.0</td>\n",
       "      <td>89.0</td>\n",
       "      <td>416.229995</td>\n",
       "      <td>353.161560</td>\n",
       "      <td>289.027090</td>\n",
       "      <td>50.720000</td>\n",
       "    </tr>\n",
       "    <tr>\n",
       "      <td>3</td>\n",
       "      <td>American Samoa</td>\n",
       "      <td>OCEANIA</td>\n",
       "      <td>57794</td>\n",
       "      <td>199</td>\n",
       "      <td>290.4</td>\n",
       "      <td>8000.0</td>\n",
       "      <td>97.0</td>\n",
       "      <td>10.00</td>\n",
       "      <td>22.46</td>\n",
       "      <td>3.27</td>\n",
       "      <td>NaN</td>\n",
       "      <td>ASM</td>\n",
       "      <td>NaN</td>\n",
       "      <td>NaN</td>\n",
       "      <td>NaN</td>\n",
       "      <td>NaN</td>\n",
       "      <td>NaN</td>\n",
       "      <td>NaN</td>\n",
       "      <td>NaN</td>\n",
       "    </tr>\n",
       "    <tr>\n",
       "      <td>4</td>\n",
       "      <td>Andorra</td>\n",
       "      <td>WESTERN EUROPE</td>\n",
       "      <td>71201</td>\n",
       "      <td>468</td>\n",
       "      <td>152.1</td>\n",
       "      <td>19000.0</td>\n",
       "      <td>100.0</td>\n",
       "      <td>2.22</td>\n",
       "      <td>8.71</td>\n",
       "      <td>6.25</td>\n",
       "      <td>7.60</td>\n",
       "      <td>AND</td>\n",
       "      <td>NaN</td>\n",
       "      <td>NaN</td>\n",
       "      <td>NaN</td>\n",
       "      <td>5359.326179</td>\n",
       "      <td>4505.417636</td>\n",
       "      <td>3984.194514</td>\n",
       "      <td>NaN</td>\n",
       "    </tr>\n",
       "    <tr>\n",
       "      <td>...</td>\n",
       "      <td>...</td>\n",
       "      <td>...</td>\n",
       "      <td>...</td>\n",
       "      <td>...</td>\n",
       "      <td>...</td>\n",
       "      <td>...</td>\n",
       "      <td>...</td>\n",
       "      <td>...</td>\n",
       "      <td>...</td>\n",
       "      <td>...</td>\n",
       "      <td>...</td>\n",
       "      <td>...</td>\n",
       "      <td>...</td>\n",
       "      <td>...</td>\n",
       "      <td>...</td>\n",
       "      <td>...</td>\n",
       "      <td>...</td>\n",
       "      <td>...</td>\n",
       "      <td>...</td>\n",
       "    </tr>\n",
       "    <tr>\n",
       "      <td>222</td>\n",
       "      <td>West Bank</td>\n",
       "      <td>NEAR EAST</td>\n",
       "      <td>2460492</td>\n",
       "      <td>5860</td>\n",
       "      <td>419.9</td>\n",
       "      <td>800.0</td>\n",
       "      <td>NaN</td>\n",
       "      <td>16.90</td>\n",
       "      <td>31.67</td>\n",
       "      <td>3.92</td>\n",
       "      <td>NaN</td>\n",
       "      <td>NaN</td>\n",
       "      <td>NaN</td>\n",
       "      <td>NaN</td>\n",
       "      <td>NaN</td>\n",
       "      <td>NaN</td>\n",
       "      <td>NaN</td>\n",
       "      <td>NaN</td>\n",
       "      <td>NaN</td>\n",
       "    </tr>\n",
       "    <tr>\n",
       "      <td>223</td>\n",
       "      <td>Western Sahara</td>\n",
       "      <td>NORTHERN AFRICA</td>\n",
       "      <td>273008</td>\n",
       "      <td>266000</td>\n",
       "      <td>1.0</td>\n",
       "      <td>NaN</td>\n",
       "      <td>NaN</td>\n",
       "      <td>0.02</td>\n",
       "      <td>NaN</td>\n",
       "      <td>NaN</td>\n",
       "      <td>NaN</td>\n",
       "      <td>NaN</td>\n",
       "      <td>NaN</td>\n",
       "      <td>NaN</td>\n",
       "      <td>NaN</td>\n",
       "      <td>NaN</td>\n",
       "      <td>NaN</td>\n",
       "      <td>NaN</td>\n",
       "      <td>NaN</td>\n",
       "    </tr>\n",
       "    <tr>\n",
       "      <td>224</td>\n",
       "      <td>Yemen</td>\n",
       "      <td>NEAR EAST</td>\n",
       "      <td>21456188</td>\n",
       "      <td>527970</td>\n",
       "      <td>40.6</td>\n",
       "      <td>800.0</td>\n",
       "      <td>50.2</td>\n",
       "      <td>2.78</td>\n",
       "      <td>42.89</td>\n",
       "      <td>8.30</td>\n",
       "      <td>23.85</td>\n",
       "      <td>NaN</td>\n",
       "      <td>NaN</td>\n",
       "      <td>NaN</td>\n",
       "      <td>NaN</td>\n",
       "      <td>NaN</td>\n",
       "      <td>NaN</td>\n",
       "      <td>NaN</td>\n",
       "      <td>NaN</td>\n",
       "    </tr>\n",
       "    <tr>\n",
       "      <td>225</td>\n",
       "      <td>Zambia</td>\n",
       "      <td>SUB-SAHARAN AFRICA</td>\n",
       "      <td>11502010</td>\n",
       "      <td>752614</td>\n",
       "      <td>15.3</td>\n",
       "      <td>800.0</td>\n",
       "      <td>80.6</td>\n",
       "      <td>7.08</td>\n",
       "      <td>41.00</td>\n",
       "      <td>19.93</td>\n",
       "      <td>21.40</td>\n",
       "      <td>ZMB</td>\n",
       "      <td>1020.0</td>\n",
       "      <td>1020.0</td>\n",
       "      <td>1020.0</td>\n",
       "      <td>9489.611538</td>\n",
       "      <td>7309.716326</td>\n",
       "      <td>5207.875737</td>\n",
       "      <td>1.960100</td>\n",
       "    </tr>\n",
       "    <tr>\n",
       "      <td>226</td>\n",
       "      <td>Zimbabwe</td>\n",
       "      <td>SUB-SAHARAN AFRICA</td>\n",
       "      <td>12236805</td>\n",
       "      <td>390580</td>\n",
       "      <td>31.3</td>\n",
       "      <td>1900.0</td>\n",
       "      <td>90.7</td>\n",
       "      <td>8.32</td>\n",
       "      <td>28.01</td>\n",
       "      <td>21.84</td>\n",
       "      <td>21.00</td>\n",
       "      <td>ZWE</td>\n",
       "      <td>657.0</td>\n",
       "      <td>657.0</td>\n",
       "      <td>657.0</td>\n",
       "      <td>1124.718843</td>\n",
       "      <td>1025.573246</td>\n",
       "      <td>902.354298</td>\n",
       "      <td>34.298532</td>\n",
       "    </tr>\n",
       "  </tbody>\n",
       "</table>\n",
       "<p>227 rows × 19 columns</p>\n",
       "</div>"
      ],
      "text/plain": [
       "            Country              Region  Population  Area (sq. mi.)  \\\n",
       "0       Afghanistan                ASIA    31056997          647500   \n",
       "1           Albania      EASTERN EUROPE     3581655           28748   \n",
       "2           Algeria     NORTHERN AFRICA    32930091         2381740   \n",
       "3    American Samoa             OCEANIA       57794             199   \n",
       "4           Andorra      WESTERN EUROPE       71201             468   \n",
       "..              ...                 ...         ...             ...   \n",
       "222       West Bank           NEAR EAST     2460492            5860   \n",
       "223  Western Sahara     NORTHERN AFRICA      273008          266000   \n",
       "224           Yemen           NEAR EAST    21456188          527970   \n",
       "225          Zambia  SUB-SAHARAN AFRICA    11502010          752614   \n",
       "226        Zimbabwe  SUB-SAHARAN AFRICA    12236805          390580   \n",
       "\n",
       "     Pop. Density (per sq. mi.)  GDP ($ per capita)  Literacy (%)  Arable (%)  \\\n",
       "0                          48.0               700.0          36.0       12.13   \n",
       "1                         124.6              4500.0          86.5       21.09   \n",
       "2                          13.8              6000.0          70.0        3.22   \n",
       "3                         290.4              8000.0          97.0       10.00   \n",
       "4                         152.1             19000.0         100.0        2.22   \n",
       "..                          ...                 ...           ...         ...   \n",
       "222                       419.9               800.0           NaN       16.90   \n",
       "223                         1.0                 NaN           NaN        0.02   \n",
       "224                        40.6               800.0          50.2        2.78   \n",
       "225                        15.3               800.0          80.6        7.08   \n",
       "226                        31.3              1900.0          90.7        8.32   \n",
       "\n",
       "     Birthrate  Deathrate  Temp C° 1961-1990 Country Code  \\\n",
       "0        46.60      20.34              12.60          AFG   \n",
       "1        15.11       5.22              11.40          ALB   \n",
       "2        17.14       4.61              22.50          DZA   \n",
       "3        22.46       3.27                NaN          ASM   \n",
       "4         8.71       6.25               7.60          AND   \n",
       "..         ...        ...                ...          ...   \n",
       "222      31.67       3.92                NaN          NaN   \n",
       "223        NaN        NaN                NaN          NaN   \n",
       "224      42.89       8.30              23.85          NaN   \n",
       "225      41.00      19.93              21.40          ZMB   \n",
       "226      28.01      21.84              21.00          ZWE   \n",
       "\n",
       "     precipitation mm/y 1992  precipitation mm/y 2002  \\\n",
       "0                      327.0                    327.0   \n",
       "1                     1485.0                   1485.0   \n",
       "2                       89.0                     89.0   \n",
       "3                        NaN                      NaN   \n",
       "4                        NaN                      NaN   \n",
       "..                       ...                      ...   \n",
       "222                      NaN                      NaN   \n",
       "223                      NaN                      NaN   \n",
       "224                      NaN                      NaN   \n",
       "225                   1020.0                   1020.0   \n",
       "226                    657.0                    657.0   \n",
       "\n",
       "     precipitation mm/y 2014  renewable freshwater m3/capita 1992  \\\n",
       "0                      327.0                          3254.968781   \n",
       "1                     1485.0                          8284.470867   \n",
       "2                       89.0                           416.229995   \n",
       "3                        NaN                                  NaN   \n",
       "4                        NaN                          5359.326179   \n",
       "..                       ...                                  ...   \n",
       "222                      NaN                                  NaN   \n",
       "223                      NaN                                  NaN   \n",
       "224                      NaN                                  NaN   \n",
       "225                   1020.0                          9489.611538   \n",
       "226                    657.0                          1124.718843   \n",
       "\n",
       "     renewable freshwater m3/capita 2002  renewable freshwater m3/capita 2014  \\\n",
       "0                            2086.212107                          1412.912141   \n",
       "1                            8816.752485                          9310.845162   \n",
       "2                             353.161560                           289.027090   \n",
       "3                                    NaN                                  NaN   \n",
       "4                            4505.417636                          3984.194514   \n",
       "..                                   ...                                  ...   \n",
       "222                                  NaN                                  NaN   \n",
       "223                                  NaN                                  NaN   \n",
       "224                                  NaN                                  NaN   \n",
       "225                          7309.716326                          5207.875737   \n",
       "226                          1025.573246                           902.354298   \n",
       "\n",
       "     annual water withdraw % 2002  \n",
       "0                       43.011665  \n",
       "1                        6.832714  \n",
       "2                       50.720000  \n",
       "3                             NaN  \n",
       "4                             NaN  \n",
       "..                            ...  \n",
       "222                           NaN  \n",
       "223                           NaN  \n",
       "224                           NaN  \n",
       "225                      1.960100  \n",
       "226                     34.298532  \n",
       "\n",
       "[227 rows x 19 columns]"
      ]
     },
     "execution_count": 37,
     "metadata": {},
     "output_type": "execute_result"
    }
   ],
   "source": [
    "Data_Full"
   ]
  },
  {
   "cell_type": "markdown",
   "metadata": {},
   "source": [
    "# Save to .csv"
   ]
  },
  {
   "cell_type": "code",
   "execution_count": 38,
   "metadata": {},
   "outputs": [],
   "source": [
    "Data_Full.to_csv(\"Data//Full_Data.csv\")"
   ]
  }
 ],
 "metadata": {
  "kernelspec": {
   "display_name": "Python 3",
   "language": "python",
   "name": "python3"
  },
  "language_info": {
   "codemirror_mode": {
    "name": "ipython",
    "version": 3
   },
   "file_extension": ".py",
   "mimetype": "text/x-python",
   "name": "python",
   "nbconvert_exporter": "python",
   "pygments_lexer": "ipython3",
   "version": "3.7.4"
  }
 },
 "nbformat": 4,
 "nbformat_minor": 2
}
